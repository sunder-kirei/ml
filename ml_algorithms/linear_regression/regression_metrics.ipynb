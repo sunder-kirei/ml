{
 "cells": [
  {
   "cell_type": "markdown",
   "id": "cb555166-c0e2-4d59-96d8-2d392f9b06e5",
   "metadata": {},
   "source": [
    "### **Regression Metrics**"
   ]
  },
  {
   "cell_type": "markdown",
   "id": "af457603-7827-49c4-9306-edefb1c5f156",
   "metadata": {},
   "source": [
    "---"
   ]
  },
  {
   "cell_type": "markdown",
   "id": "01daeebe-1562-4acc-8d27-655edbb42708",
   "metadata": {},
   "source": [
    "### Loss functions -"
   ]
  },
  {
   "cell_type": "markdown",
   "id": "7770338f-1cf2-4ddf-ad24-019e19275cf5",
   "metadata": {},
   "source": [
    "#### **1. Mean absolute error (MAE)**"
   ]
  },
  {
   "cell_type": "markdown",
   "id": "85456591-de8c-434c-8ee4-5ea3a6cb6a9a",
   "metadata": {},
   "source": [
    "### $$ MAE = {{\\sum_{i=1}^{n} |y_i - \\hat{y_i}|}\\over{n}} $$"
   ]
  },
  {
   "cell_type": "markdown",
   "id": "be6e4d0a-bb06-4815-b48f-ee2a6b7e3971",
   "metadata": {},
   "source": [
    "#### **2. Mean squared error (MSE) / Sum of squared residuals**"
   ]
  },
  {
   "cell_type": "markdown",
   "id": "02032e7d-64ee-408d-af9c-d6318b2cb07a",
   "metadata": {},
   "source": [
    "### $$ MSE = {{\\sum_{i=1}^{n} (y_i - \\hat{y_i}) ^ 2}\\over{n}} $$"
   ]
  },
  {
   "cell_type": "markdown",
   "id": "68b11174-a6af-4553-aa3b-8d0cbfe13a8e",
   "metadata": {},
   "source": [
    "#### **3. Root mean squared error ($R_{mse}$)**"
   ]
  },
  {
   "cell_type": "markdown",
   "id": "8dcbf76b-4179-47c4-ab97-745a2db23334",
   "metadata": {},
   "source": [
    "### $$ R_{mse} = \\sqrt{{\\sum_{i=1}^{n} (y_i - \\hat{y_i}) ^ 2}\\over{n}} $$"
   ]
  },
  {
   "cell_type": "markdown",
   "id": "ed6193a9-dba6-4a4a-b30b-c8ba12e834c3",
   "metadata": {},
   "source": [
    "---"
   ]
  },
  {
   "cell_type": "markdown",
   "id": "910b5c56-bc3b-4f1c-8106-9dcc8ef46bb2",
   "metadata": {},
   "source": [
    "### R2 Score"
   ]
  },
  {
   "cell_type": "markdown",
   "id": "1b1bed22-4058-4280-877f-1b2eaa3b2e11",
   "metadata": {},
   "source": [
    "### $$ R^2 = 1 - {{\\sum_{i}(y_i - \\hat{y_i}) ^ 2}\\over{\\sum_{i}(y_i - \\bar{y}) ^ 2}} $$"
   ]
  },
  {
   "cell_type": "markdown",
   "id": "f42729f3-a863-4f13-ab8b-6691bdb858ff",
   "metadata": {},
   "source": [
    "$R^2$ score of any regression tells that- \n",
    "\"the input columns explain $R^2$ score amount of variance in the data\""
   ]
  },
  {
   "cell_type": "markdown",
   "id": "c817cb1b-e8cd-48c6-9b97-be9b31e2d4c0",
   "metadata": {},
   "source": [
    "---"
   ]
  },
  {
   "cell_type": "markdown",
   "id": "bf247fdc-c90d-4257-af56-e41bb63fefd9",
   "metadata": {},
   "source": [
    "### Adjusted $R^2$ score"
   ]
  },
  {
   "cell_type": "markdown",
   "id": "9a1b91f7-71e1-42fa-800e-a851241cfd0c",
   "metadata": {},
   "source": [
    "### $$ R^2_{adj} = 1 - {{(1 - R^2)(n - 1)}\\over{(n - 1 - k)}} $$\n",
    "\n",
    "where, \n",
    "\n",
    "n = number of rows of data\n",
    "\n",
    "k = number of input columns / number of features"
   ]
  },
  {
   "cell_type": "markdown",
   "id": "030f4344-6362-462c-982a-23a15488e9d9",
   "metadata": {},
   "source": [
    "---"
   ]
  },
  {
   "cell_type": "code",
   "execution_count": 1,
   "id": "c390c56d-91dd-4a81-961b-5587d0809123",
   "metadata": {},
   "outputs": [],
   "source": [
    "from sklearn.metrics import mean_absolute_error, mean_squared_error, r2_score"
   ]
  },
  {
   "cell_type": "code",
   "execution_count": null,
   "id": "d2886be7-96da-47a1-a5a3-8f1c6bac7256",
   "metadata": {},
   "outputs": [],
   "source": []
  }
 ],
 "metadata": {
  "kernelspec": {
   "display_name": "Python 3 (ipykernel)",
   "language": "python",
   "name": "python3"
  },
  "language_info": {
   "codemirror_mode": {
    "name": "ipython",
    "version": 3
   },
   "file_extension": ".py",
   "mimetype": "text/x-python",
   "name": "python",
   "nbconvert_exporter": "python",
   "pygments_lexer": "ipython3",
   "version": "3.11.5"
  }
 },
 "nbformat": 4,
 "nbformat_minor": 5
}
