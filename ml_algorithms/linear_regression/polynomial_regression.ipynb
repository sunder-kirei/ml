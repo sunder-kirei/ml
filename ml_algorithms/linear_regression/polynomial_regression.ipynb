{
 "cells": [
  {
   "cell_type": "markdown",
   "metadata": {},
   "source": [
    "### **Polynomial Regression**"
   ]
  },
  {
   "cell_type": "markdown",
   "metadata": {},
   "source": [
    "---"
   ]
  },
  {
   "cell_type": "markdown",
   "metadata": {},
   "source": [
    "#### Equation for polynomial function-\n",
    "\n",
    "### **$$ y = \\beta_0x^0 + \\beta_1x^1 + ... + \\beta_nx^n $$**"
   ]
  },
  {
   "cell_type": "markdown",
   "metadata": {},
   "source": [
    "The goal of the polynomial regression is to find the values of $\\beta$, and \n",
    "\n",
    "This can be solved using multiple linear regression only, by considering each polynomial term to be one on the variables in a linear equation and just finding their coefficients normally.\n",
    "\n",
    "In order to do that the features are converted to polynomial features,\n",
    "\n",
    "say if we have just 1 feature, and we want to find the relationship with $2^{nd}$ degree polynomial, then\n",
    "\n",
    "### $$ y = \\beta_0 + \\beta_1x +\\beta_2x^2 $$\n",
    "\n",
    "here, $x$ is the input feature\n",
    "\n",
    "and $x^n$ represents the $n^{th}$ power of data in $x$ input feature"
   ]
  },
  {
   "cell_type": "markdown",
   "metadata": {},
   "source": [
    "---"
   ]
  },
  {
   "cell_type": "code",
   "execution_count": 1,
   "metadata": {},
   "outputs": [],
   "source": [
    "# Step 1: Convert to polynomial features\n",
    "\n",
    "from sklearn.preprocessing import PolynomialFeatures\n",
    "\n",
    "poly = PolynomialFeatures(degree=2)"
   ]
  },
  {
   "cell_type": "code",
   "execution_count": 2,
   "metadata": {},
   "outputs": [],
   "source": [
    "# Step 2: Use the transformed features to train the LinearRegression model\n",
    "\n",
    "from sklearn.linear_model import LinearRegression\n",
    "\n",
    "lr = LinearRegression()"
   ]
  },
  {
   "cell_type": "code",
   "execution_count": null,
   "metadata": {},
   "outputs": [],
   "source": []
  }
 ],
 "metadata": {
  "kernelspec": {
   "display_name": "base",
   "language": "python",
   "name": "python3"
  },
  "language_info": {
   "codemirror_mode": {
    "name": "ipython",
    "version": 3
   },
   "file_extension": ".py",
   "mimetype": "text/x-python",
   "name": "python",
   "nbconvert_exporter": "python",
   "pygments_lexer": "ipython3",
   "version": "3.11.5"
  }
 },
 "nbformat": 4,
 "nbformat_minor": 2
}
