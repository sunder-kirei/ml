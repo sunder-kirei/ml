{
 "cells": [
  {
   "cell_type": "markdown",
   "metadata": {},
   "source": [
    "### **Lasso Regression**"
   ]
  },
  {
   "cell_type": "markdown",
   "metadata": {},
   "source": [
    "---"
   ]
  },
  {
   "cell_type": "markdown",
   "metadata": {},
   "source": [
    "### **$$ Loss = Loss + Reguralized\\_term$$**\n",
    "\n",
    "### **$$ Loss = \\sum(y_i - \\sum x_{ij}W_{j})^2 + \\lambda\\sum W_j$$**\n",
    "\n",
    "where, $\\lambda$ is a hyperparameter\n",
    "\n",
    "and $W_j$ is the L1 norm"
   ]
  },
  {
   "cell_type": "markdown",
   "metadata": {},
   "source": [
    "---"
   ]
  },
  {
   "cell_type": "markdown",
   "metadata": {
    "vscode": {
     "languageId": "plaintext"
    }
   },
   "source": [
    "#### **Closed form solution for ridge linear regression**\n",
    "\n",
    "### **$$ Loss = \\sum (y_i - \\hat{y_i})^2 + \\lambda |m|$$**\n",
    "\n",
    "### **for m > 0, $$ m = {{\\sum (y_i - \\bar{y})(x_i - \\bar{x}) - \\lambda}\\over{\\sum(x_i - \\bar{x}^2)}}$$**\n",
    "### **for m <= 0, $$ m = {{\\sum (y_i - \\bar{y})(x_i - \\bar{x}) + \\lambda}\\over{\\sum(x_i - \\bar{x}^2)}}$$**\n",
    "### **$$ b = \\bar{y} - m\\bar{X} $$**"
   ]
  },
  {
   "cell_type": "markdown",
   "metadata": {},
   "source": [
    "---"
   ]
  },
  {
   "cell_type": "markdown",
   "metadata": {},
   "source": []
  }
 ],
 "metadata": {
  "language_info": {
   "name": "python"
  }
 },
 "nbformat": 4,
 "nbformat_minor": 2
}
