{
 "cells": [
  {
   "cell_type": "markdown",
   "metadata": {},
   "source": [
    "### **ElasticNet Regression**"
   ]
  },
  {
   "cell_type": "markdown",
   "metadata": {},
   "source": [
    "---"
   ]
  },
  {
   "cell_type": "markdown",
   "metadata": {},
   "source": [
    "### **$$ Loss = Loss + Reguralized\\_term$$**\n",
    "\n",
    "### **$$ Loss = \\sum(y_i - \\sum x_{ij}W_{j})^2 + \\alpha\\sum W_j^2 + \\beta\\sum W_j$$**\n",
    "\n",
    "where, $\\lambda$ is a hyperparameter\n",
    "\n",
    "and $W_j$ is the L1 norm\n",
    "and $W_j^2$ is the L2 norm"
   ]
  },
  {
   "cell_type": "markdown",
   "metadata": {},
   "source": [
    "---"
   ]
  },
  {
   "cell_type": "markdown",
   "metadata": {},
   "source": []
  }
 ],
 "metadata": {
  "language_info": {
   "name": "python"
  }
 },
 "nbformat": 4,
 "nbformat_minor": 2
}
