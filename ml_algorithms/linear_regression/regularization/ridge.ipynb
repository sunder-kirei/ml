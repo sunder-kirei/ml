{
 "cells": [
  {
   "cell_type": "markdown",
   "metadata": {},
   "source": [
    "### **Ridge Regression**"
   ]
  },
  {
   "cell_type": "markdown",
   "metadata": {},
   "source": [
    "---"
   ]
  },
  {
   "cell_type": "markdown",
   "metadata": {},
   "source": [
    "### **$$ Loss = Loss + Reguralized\\_term$$**\n",
    "\n",
    "### **$$ Loss = \\sum(y_i - \\sum x_{ij}W_{j})^2 + \\lambda\\sum W_j^2$$**\n",
    "\n",
    "where, $\\lambda$ is a hyperparameter\n",
    "\n",
    "and $W_j^2$ is the L2 norm"
   ]
  },
  {
   "cell_type": "markdown",
   "metadata": {},
   "source": [
    "---"
   ]
  },
  {
   "cell_type": "markdown",
   "metadata": {
    "vscode": {
     "languageId": "plaintext"
    }
   },
   "source": [
    "#### **Closed form solution for ridge linear regression**\n",
    "\n",
    "### **$$ Loss = \\sum (y_i - \\hat{y_i})^2 + \\lambda m^2$$**\n",
    "\n",
    "### **$$ m = {{\\sum (y_i - \\bar{y})(x_i - \\bar{x})}\\over{\\sum(x_i - \\bar{x}^2) + \\lambda}}$$**\n",
    "### **$$ b = \\bar{y} - m\\bar{X} $$**\n",
    "\n",
    "#### **For $n-dimension$ data**\n",
    "\n",
    "### **$$ Loss = (XW- Y) ^ T (XW - Y) + \\lambda W^T W$$**\n",
    "\n",
    "### **$$ W = (X^TX + \\lambda I)^{-1}X^TY$$**\n",
    "\n",
    "where,\n",
    "\n",
    "$$X = \\begin{bmatrix}\n",
    "        1 & x_{11} & ... & x_{1n}\\\\\n",
    "        1 & x_{21} & ... & x_{2n}\\\\\n",
    "        \\vdots\\\\\n",
    "        1 & x_{m1} & ... & x_{mn}\n",
    "      \\end{bmatrix} $$ "
   ]
  },
  {
   "cell_type": "markdown",
   "metadata": {},
   "source": [
    "---"
   ]
  },
  {
   "cell_type": "markdown",
   "metadata": {},
   "source": [
    "#### **Gradient descent solution for ridge linear regression**\n",
    "\n",
    "### **$$ Loss = (XW- Y) ^ T (XW - Y) + \\lambda W^T W$$**\n",
    "\n",
    "### **$${{\\delta L}\\over{\\delta W}} = X^T X W - X^T Y + \\lambda W$$**\n"
   ]
  },
  {
   "cell_type": "markdown",
   "metadata": {},
   "source": []
  }
 ],
 "metadata": {
  "language_info": {
   "name": "python"
  }
 },
 "nbformat": 4,
 "nbformat_minor": 2
}
